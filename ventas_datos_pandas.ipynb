{
  "nbformat": 4,
  "nbformat_minor": 0,
  "metadata": {
    "colab": {
      "provenance": [],
      "authorship_tag": "ABX9TyOrIeD69xtgVLbthpv7oMa1",
      "include_colab_link": true
    },
    "kernelspec": {
      "name": "python3",
      "display_name": "Python 3"
    },
    "language_info": {
      "name": "python"
    }
  },
  "cells": [
    {
      "cell_type": "markdown",
      "metadata": {
        "id": "view-in-github",
        "colab_type": "text"
      },
      "source": [
        "<a href=\"https://colab.research.google.com/github/Kevin-2099/ventas-datos-pandas/blob/main/ventas_datos_pandas.ipynb\" target=\"_parent\"><img src=\"https://colab.research.google.com/assets/colab-badge.svg\" alt=\"Open In Colab\"/></a>"
      ]
    },
    {
      "cell_type": "code",
      "execution_count": 2,
      "metadata": {
        "id": "dnw5JhgTTTQ0"
      },
      "outputs": [],
      "source": [
        "import pandas as pd\n",
        "import numpy as np\n",
        "\n",
        "# ===== 1. Generamos los CSV =====\n",
        "\n",
        "# Dataset de ventas\n",
        "ventas = pd.DataFrame({\n",
        "    \"ID_Cliente\": [1, 2, 3, 4, 1, 2, 3],\n",
        "    \"Producto\": [\"A\", \"B\", \"C\", \"A\", \"B\", \"C\", \"A\"],\n",
        "    \"Categoría\": [\"Electrónica\", \"Ropa\", \"Hogar\", \"Electrónica\", \"Ropa\", \"Hogar\", \"Electrónica\"],\n",
        "    \"Precio\": [100, 50, 80, 100, 50, 80, 100],\n",
        "    \"Cantidad\": [1, 2, 1, 3, 1, 2, 1],\n",
        "    \"País\": [\"España\", \"España\", \"Francia\", \"Francia\", \"España\", \"Francia\", \"España\"]\n",
        "})\n",
        "\n",
        "ventas.to_csv(\"ventas.csv\", index=False)\n",
        "\n",
        "# Dataset de clientes\n",
        "clientes = pd.DataFrame({\n",
        "    \"ID_Cliente\": [1, 2, 3, 4],\n",
        "    \"Nombre\": [\"Juan\", \"Laura\", \"Carlos\", \"María\"],\n",
        "    \"Edad\": [30, 25, 35, 28]\n",
        "})\n",
        "\n",
        "clientes.to_csv(\"clientes.csv\", index=False)\n",
        "\n",
        "print(\"✅ Archivos 'ventas.csv' y 'clientes.csv' generados.\\n\")\n",
        "\n",
        "# ===== 2. Visualizamos el contenido de los CSV directamente =====\n",
        "\n",
        "print(\"=== Contenido de 'ventas.csv' ===\")\n",
        "display(pd.read_csv(\"ventas.csv\"))\n",
        "\n",
        "print(\"\\n=== Contenido de 'clientes.csv' ===\")\n",
        "display(pd.read_csv(\"clientes.csv\"))\n",
        "\n",
        "# ===== 3. Cargamos los CSV como DataFrames =====\n",
        "\n",
        "ventas = pd.read_csv(\"ventas.csv\")\n",
        "clientes = pd.read_csv(\"clientes.csv\")\n",
        "\n",
        "# ===== 4. Manipulación de datos =====\n",
        "\n",
        "ventas[\"Total\"] = ventas[\"Precio\"] * ventas[\"Cantidad\"]\n",
        "\n",
        "# Agrupaciones y cálculos\n",
        "print(\"\\n=== Ventas totales por País ===\")\n",
        "display(ventas.groupby(\"País\")[\"Total\"].sum().reset_index())\n",
        "\n",
        "print(\"\\n=== Promedio de precio por Producto ===\")\n",
        "display(ventas.groupby(\"Producto\")[\"Precio\"].mean().reset_index())\n",
        "\n",
        "print(\"\\n=== Estadísticas múltiples por Categoría ===\")\n",
        "display(ventas.groupby(\"Categoría\")[\"Precio\"].agg([\"mean\", \"max\", \"min\"]).reset_index())\n",
        "\n",
        "# Merge de ventas y clientes\n",
        "ventas_completo = pd.merge(ventas, clientes, on=\"ID_Cliente\", how=\"left\")\n",
        "ventas_completo.to_csv(\"ventas_completo.csv\", index=False)\n",
        "\n",
        "print(\"\\n=== Dataset combinado (ventas + clientes) ===\")\n",
        "display(ventas_completo)\n",
        "\n",
        "# Tabla dinámica\n",
        "tabla = ventas.pivot_table(values=\"Total\", index=\"País\", columns=\"Producto\", aggfunc=\"sum\", fill_value=0)\n",
        "tabla.to_csv(\"tabla_pivot.csv\")\n",
        "\n",
        "print(\"\\n=== Tabla dinámica de ventas por País y Producto ===\")\n",
        "display(tabla)\n",
        "\n",
        "# ===== 5. Mostrar enlaces para descargar los CSV =====\n",
        "from google.colab import files\n",
        "\n",
        "print(\"\\n⬇️ Puedes descargar los archivos generados aquí:\")\n",
        "\n",
        "# Comenta estas líneas si no quieres que aparezcan los botones de descarga automática\n",
        "files.download(\"ventas.csv\")\n",
        "files.download(\"clientes.csv\")\n",
        "files.download(\"ventas_completo.csv\")\n",
        "files.download(\"tabla_pivot.csv\")"
      ]
    },
    {
      "cell_type": "code",
      "source": [],
      "metadata": {
        "id": "M3vY9w1VVyVr"
      },
      "execution_count": null,
      "outputs": []
    }
  ]
}